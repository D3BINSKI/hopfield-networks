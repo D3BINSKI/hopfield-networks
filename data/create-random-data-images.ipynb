{
 "cells": [
  {
   "cell_type": "code",
   "execution_count": 2,
   "metadata": {
    "collapsed": true
   },
   "outputs": [],
   "source": [
    "import numpy as np\n",
    "import matplotlib.pyplot as plt"
   ]
  },
  {
   "cell_type": "code",
   "execution_count": 3,
   "outputs": [],
   "source": [
    "# SETTINGS\n",
    "height = 3 # set image height\n",
    "width = 3  # set image width\n",
    "n = 12  # set number of (height x width) images to create\n",
    "\n",
    "data = []\n",
    "for _ in range(n):\n",
    "    random_data = np.random.random((height,width))\n",
    "    random_data[random_data < 0.5] = 0\n",
    "    random_data[random_data >= 0.5] = 1\n",
    "    data.append(random_data)"
   ],
   "metadata": {
    "collapsed": false
   }
  },
  {
   "cell_type": "code",
   "execution_count": 4,
   "outputs": [],
   "source": [
    "import matplotlib.cm as cm\n",
    "from pathlib import Path\n",
    "from os import mkdir"
   ],
   "metadata": {
    "collapsed": false
   }
  },
  {
   "cell_type": "code",
   "execution_count": 5,
   "outputs": [
    {
     "data": {
      "text/plain": "<Figure size 800x800 with 12 Axes>",
      "image/png": "[encoded data removed]"
     },
     "metadata": {},
     "output_type": "display_data"
    }
   ],
   "source": [
    "folder = Path(f\"random/{height}x{width}\")\n",
    "if not folder.parent.exists():\n",
    "    mkdir(folder.parent)\n",
    "if not folder.exists():\n",
    "    mkdir(folder)\n",
    "\n",
    "def show_images(images, color_map):\n",
    "    plt.figure(figsize=(8, 8))\n",
    "    columns = 4\n",
    "    for i, image in enumerate(images):\n",
    "        plt.subplot(int(len(data)/columns), columns, i+1)\n",
    "        plt.imshow(image,interpolation='none',cmap=color_map,origin='lower')\n",
    "    plt.show()\n",
    "\n",
    "def save_images(images, path):\n",
    "    for i, image in enumerate(images):\n",
    "        file_path = path.joinpath(f\"img{i}.png\")\n",
    "        plt.imsave(file_path.absolute(), image,cmap=cmap,origin='lower')\n",
    "\n",
    "cmap = cm.gray\n",
    "\n",
    "show_images(data, cmap)\n",
    "save_images(data, folder)"
   ],
   "metadata": {
    "collapsed": false
   }
  },
  {
   "cell_type": "code",
   "execution_count": 6,
   "outputs": [
    {
     "ename": "NameError",
     "evalue": "name 'listdir' is not defined",
     "output_type": "error",
     "traceback": [
      "\u001B[1;31m---------------------------------------------------------------------------\u001B[0m",
      "\u001B[1;31mNameError\u001B[0m                                 Traceback (most recent call last)",
      "Cell \u001B[1;32mIn[6], line 28\u001B[0m\n\u001B[0;32m     24\u001B[0m         imported_images\u001B[38;5;241m.\u001B[39mappend(flatten_image)\n\u001B[0;32m     26\u001B[0m     \u001B[38;5;28;01mreturn\u001B[39;00m imported_images\n\u001B[1;32m---> 28\u001B[0m import_imgs \u001B[38;5;241m=\u001B[39m \u001B[43mimport_images\u001B[49m\u001B[43m(\u001B[49m\u001B[43mfolder\u001B[49m\u001B[43m)\u001B[49m\n",
      "Cell \u001B[1;32mIn[6], line 21\u001B[0m, in \u001B[0;36mimport_images\u001B[1;34m(path)\u001B[0m\n\u001B[0;32m     18\u001B[0m \u001B[38;5;28;01mdef\u001B[39;00m \u001B[38;5;21mimport_images\u001B[39m(path):\n\u001B[0;32m     19\u001B[0m     imported_images \u001B[38;5;241m=\u001B[39m []\n\u001B[1;32m---> 21\u001B[0m     \u001B[38;5;28;01mfor\u001B[39;00m file \u001B[38;5;129;01min\u001B[39;00m \u001B[43mlistdir\u001B[49m(path):\n\u001B[0;32m     22\u001B[0m         img \u001B[38;5;241m=\u001B[39m plt\u001B[38;5;241m.\u001B[39mimread(folder\u001B[38;5;241m.\u001B[39mjoinpath(file))\n\u001B[0;32m     23\u001B[0m         flatten_image \u001B[38;5;241m=\u001B[39m flatten_read_image(img)\n",
      "\u001B[1;31mNameError\u001B[0m: name 'listdir' is not defined"
     ]
    }
   ],
   "source": [
    "def flatten_read_image(input_image):\n",
    "    \"\"\"\n",
    "\n",
    "    :param input_image: black and white image imported with plt.imread() function\n",
    "    :return: array of 0's and 1's describing imported image\n",
    "    \"\"\"\n",
    "    prepared_image = []\n",
    "\n",
    "    for element in input_image:\n",
    "        element_flatten = []\n",
    "        for row in element:\n",
    "            element_flatten.append(row[0])\n",
    "        prepared_image.append(element_flatten)\n",
    "\n",
    "    prepared_image.reverse()\n",
    "    return prepared_image\n",
    "\n",
    "def import_images(path):\n",
    "    imported_images = []\n",
    "\n",
    "    for file in listdir(path):\n",
    "        img = plt.imread(folder.joinpath(file))\n",
    "        flatten_image = flatten_read_image(img)\n",
    "        imported_images.append(flatten_image)\n",
    "\n",
    "    return imported_images\n",
    "\n",
    "import_imgs = import_images(folder)\n"
   ],
   "metadata": {
    "collapsed": false
   }
  },
  {
   "cell_type": "code",
   "execution_count": null,
   "outputs": [],
   "source": [
    "show_images(import_imgs, cmap)"
   ],
   "metadata": {
    "collapsed": false
   }
  }
 ],
 "metadata": {
  "kernelspec": {
   "display_name": "Python 3",
   "language": "python",
   "name": "python3"
  },
  "language_info": {
   "codemirror_mode": {
    "name": "ipython",
    "version": 2
   },
   "file_extension": ".py",
   "mimetype": "text/x-python",
   "name": "python",
   "nbconvert_exporter": "python",
   "pygments_lexer": "ipython2",
   "version": "2.7.6"
  }
 },
 "nbformat": 4,
 "nbformat_minor": 0
}
