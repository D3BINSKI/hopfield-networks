{
 "cells": [
  {
   "cell_type": "code",
   "execution_count": 103,
   "metadata": {
    "collapsed": true
   },
   "outputs": [
    {
     "data": {
      "text/plain": "<Figure size 800x800 with 12 Axes>",
      "image/png": "[encoded data removed]"
     },
     "metadata": {},
     "output_type": "display_data"
    }
   ],
   "source": [
    "from os import listdir, mkdir\n",
    "import matplotlib.pyplot as plt\n",
    "from pathlib import Path\n",
    "\n",
    "import pandas as pd\n",
    "\n",
    "random_data_folder = Path(\"../data/random\")\n",
    "random_data_folder.resolve()\n",
    "\n",
    "\n",
    "def flatten_read_image(input_image):\n",
    "    \"\"\"\n",
    "\n",
    "    :param input_image: black and white image imported with plt.imread() function\n",
    "    :return: array of 0's and 1's describing imported image\n",
    "    \"\"\"\n",
    "    prepared_image = []\n",
    "\n",
    "    for element in input_image:\n",
    "        element_flatten = []\n",
    "        for row in element:\n",
    "            element_flatten.append(row[0])\n",
    "        prepared_image.append(element_flatten)\n",
    "\n",
    "    prepared_image.reverse()\n",
    "    return prepared_image\n",
    "\n",
    "\n",
    "def import_images(path):\n",
    "    imported_images = []\n",
    "\n",
    "    for file in listdir(path):\n",
    "        img = plt.imread(path.joinpath(file))\n",
    "        flatten_image = flatten_read_image(img)\n",
    "        imported_images.append(flatten_image)\n",
    "\n",
    "    return imported_images\n",
    "\n",
    "\n",
    "images = import_images(random_data_folder.joinpath(\"5x5\"))\n",
    "import matplotlib.cm as cm\n",
    "\n",
    "\n",
    "def show_images(images, color_map):\n",
    "    plt.figure(figsize=(8, 8))\n",
    "    columns = 4\n",
    "    for i, image in enumerate(images):\n",
    "        plt.subplot(int(len(images) / columns), columns, i + 1)\n",
    "        plt.imshow(image, interpolation='none', cmap=color_map, origin='lower')\n",
    "    plt.show()\n",
    "\n",
    "\n",
    "cmap = cm.gray\n",
    "show_images(images, cmap)"
   ]
  },
  {
   "cell_type": "code",
   "execution_count": 104,
   "outputs": [],
   "source": [
    "import neurolab as nl\n",
    "import numpy as np"
   ],
   "metadata": {
    "collapsed": false
   }
  },
  {
   "cell_type": "code",
   "execution_count": 105,
   "outputs": [],
   "source": [
    "train_data01 = images[0]\n",
    "train_data02 = images[3]"
   ],
   "metadata": {
    "collapsed": false
   }
  },
  {
   "cell_type": "code",
   "execution_count": 106,
   "outputs": [
    {
     "data": {
      "text/plain": "[[1.0, 1.0, 1.0, 1.0, 0.0],\n [1.0, 0.0, 0.0, 1.0, 0.0],\n [0.0, 1.0, 1.0, 0.0, 1.0],\n [0.0, 0.0, 1.0, 0.0, 1.0],\n [1.0, 0.0, 1.0, 0.0, 0.0]]"
     },
     "execution_count": 106,
     "metadata": {},
     "output_type": "execute_result"
    }
   ],
   "source": [
    "train_data01"
   ],
   "metadata": {
    "collapsed": false
   }
  },
  {
   "cell_type": "code",
   "execution_count": 107,
   "outputs": [],
   "source": [
    "train = pd.DataFrame(train_data02)\n",
    "train = np.asarray(train)\n",
    "train = train.flatten()\n",
    "train[train == 0] = -1\n",
    "\n",
    "test = pd.DataFrame(train_data01)\n",
    "test = np.asarray(test)\n",
    "test = test.flatten()\n",
    "test[test == 0] = -1"
   ],
   "metadata": {
    "collapsed": false
   }
  },
  {
   "cell_type": "code",
   "execution_count": 108,
   "outputs": [
    {
     "data": {
      "text/plain": "array([-1.,  1., -1., -1., -1.,  1.,  1., -1.,  1., -1., -1., -1., -1.,\n        1.,  1.,  1., -1.,  1., -1.,  1., -1.,  1.,  1.,  1.,  1.],\n      dtype=float32)"
     },
     "execution_count": 108,
     "metadata": {},
     "output_type": "execute_result"
    }
   ],
   "source": [
    "train"
   ],
   "metadata": {
    "collapsed": false
   }
  },
  {
   "cell_type": "code",
   "execution_count": 109,
   "outputs": [
    {
     "data": {
      "text/plain": "array([ 1.,  1.,  1.,  1., -1.,  1., -1., -1.,  1., -1., -1.,  1.,  1.,\n       -1.,  1., -1., -1.,  1., -1.,  1.,  1., -1.,  1., -1., -1.],\n      dtype=float32)"
     },
     "execution_count": 109,
     "metadata": {},
     "output_type": "execute_result"
    }
   ],
   "source": [
    "test"
   ],
   "metadata": {
    "collapsed": false
   }
  },
  {
   "cell_type": "code",
   "execution_count": 110,
   "outputs": [],
   "source": [
    "net = nl.net.newhop([train])\n"
   ],
   "metadata": {
    "collapsed": false
   }
  },
  {
   "cell_type": "code",
   "execution_count": 111,
   "outputs": [],
   "source": [
    "output = net.sim([test])"
   ],
   "metadata": {
    "collapsed": false
   }
  },
  {
   "cell_type": "code",
   "execution_count": 112,
   "outputs": [
    {
     "data": {
      "text/plain": "array([[-1.,  1., -1., -1., -1.,  1.,  1., -1.,  1., -1., -1., -1., -1.,\n         1.,  1.,  1., -1.,  1., -1.,  1., -1.,  1.,  1.,  1.,  1.]])"
     },
     "execution_count": 112,
     "metadata": {},
     "output_type": "execute_result"
    }
   ],
   "source": [
    "output"
   ],
   "metadata": {
    "collapsed": false
   }
  },
  {
   "cell_type": "code",
   "execution_count": 113,
   "outputs": [
    {
     "data": {
      "text/plain": "True"
     },
     "execution_count": 113,
     "metadata": {},
     "output_type": "execute_result"
    }
   ],
   "source": [
    "comp = (output == train)\n",
    "comp.all()"
   ],
   "metadata": {
    "collapsed": false
   }
  },
  {
   "cell_type": "code",
   "execution_count": 113,
   "outputs": [],
   "source": [],
   "metadata": {
    "collapsed": false
   }
  }
 ],
 "metadata": {
  "kernelspec": {
   "display_name": "Python 3",
   "language": "python",
   "name": "python3"
  },
  "language_info": {
   "codemirror_mode": {
    "name": "ipython",
    "version": 2
   },
   "file_extension": ".py",
   "mimetype": "text/x-python",
   "name": "python",
   "nbconvert_exporter": "python",
   "pygments_lexer": "ipython2",
   "version": "2.7.6"
  }
 },
 "nbformat": 4,
 "nbformat_minor": 0
}
