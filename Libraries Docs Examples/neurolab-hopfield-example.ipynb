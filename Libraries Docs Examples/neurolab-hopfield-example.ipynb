{
 "cells": [
  {
   "cell_type": "code",
   "execution_count": 1,
   "outputs": [
    {
     "name": "stdout",
     "output_type": "stream",
     "text": [
      "Test on train samples:\n",
      "N True\n",
      "E True\n",
      "R True\n",
      "O True\n",
      "\n",
      "Test on defaced N:\n",
      "True Sim. steps 2\n"
     ]
    }
   ],
   "source": [
    "# -*- coding: utf-8 -*-\n",
    "\"\"\"\n",
    "Example of use Hopfield Recurrent network\n",
    "=========================================\n",
    "\n",
    "Task: Recognition of letters\n",
    "\n",
    "\"\"\"\n",
    "\n",
    "import numpy as np\n",
    "import neurolab as nl\n",
    "\n",
    "# N E R O\n",
    "target =  [[1,0,0,0,1,\n",
    "           1,1,0,0,1,\n",
    "           1,0,1,0,1,\n",
    "           1,0,0,1,1,\n",
    "           1,0,0,0,1],\n",
    "          [1,1,1,1,1,\n",
    "           1,0,0,0,0,\n",
    "           1,1,1,1,1,\n",
    "           1,0,0,0,0,\n",
    "           1,1,1,1,1],\n",
    "          [1,1,1,1,0,\n",
    "           1,0,0,0,1,\n",
    "           1,1,1,1,0,\n",
    "           1,0,0,1,0,\n",
    "           1,0,0,0,1],\n",
    "          [0,1,1,1,0,\n",
    "           1,0,0,0,1,\n",
    "           1,0,0,0,1,\n",
    "           1,0,0,0,1,\n",
    "           0,1,1,1,0]]\n",
    "\n",
    "chars = ['N', 'E', 'R', 'O']\n",
    "target = np.asfarray(target)\n",
    "target[target == 0] = -1\n",
    "\n",
    "# Create and train network\n",
    "net = nl.net.newhop(target)\n",
    "\n",
    "output = net.sim(target)\n",
    "print(\"Test on train samples:\")\n",
    "for i in range(len(target)):\n",
    "    print(chars[i], (output[i] == target[i]).all())\n",
    "\n",
    "print(\"\\nTest on defaced N:\")\n",
    "test =np.asfarray([0,0,0,0,0,\n",
    "                   1,1,0,0,1,\n",
    "                   1,1,0,0,1,\n",
    "                   1,0,1,1,1,\n",
    "                   0,0,0,1,1])\n",
    "test[test==0] = -1\n",
    "out = net.sim([test])\n",
    "print ((out[0] == target[0]).all(), 'Sim. steps',len(net.layers[0].outs))"
   ],
   "metadata": {
    "collapsed": false
   }
  },
  {
   "cell_type": "code",
   "execution_count": null,
   "outputs": [],
   "source": [],
   "metadata": {
    "collapsed": false
   }
  }
 ],
 "metadata": {
  "kernelspec": {
   "display_name": "Python 3",
   "language": "python",
   "name": "python3"
  },
  "language_info": {
   "codemirror_mode": {
    "name": "ipython",
    "version": 2
   },
   "file_extension": ".py",
   "mimetype": "text/x-python",
   "name": "python",
   "nbconvert_exporter": "python",
   "pygments_lexer": "ipython2",
   "version": "2.7.6"
  }
 },
 "nbformat": 4,
 "nbformat_minor": 0
}
